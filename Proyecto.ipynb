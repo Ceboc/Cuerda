{
 "metadata": {
  "language": "Julia",
  "name": "",
  "signature": "sha256:1f6aa27a3c2f72516ba926f379bfd7f080fc69553de0f1d5c4ab0cd228879003"
 },
 "nbformat": 3,
 "nbformat_minor": 0,
 "worksheets": [
  {
   "cells": [
    {
     "cell_type": "code",
     "collapsed": false,
     "input": [
      ";git status "
     ],
     "language": "python",
     "metadata": {},
     "outputs": [
      {
       "output_type": "stream",
       "stream": "stdout",
       "text": [
        "En la rama Petobranch\n",
        "Your branch is up-to-date with 'origin/Petobranch'.\n",
        "\n",
        "Archivos sin seguimiento:\n",
        "  (use \u00abgit add <archivo>...\u00bb para incluir lo que se ha de ejecutar)\n",
        "\n",
        "\t.ipynb_checkpoints/\n",
        "\tCaptura de pantalla de 2014-12-04 09:49:30.png\n",
        "\tUntitled0.ipynb\n",
        "\n",
        "no se ha agregado nada al commit pero existen archivos sin seguimiento (use \u00abgit add\u00bb para darle seguimiento)\n"
       ]
      }
     ],
     "prompt_number": 1
    },
    {
     "cell_type": "markdown",
     "metadata": {},
     "source": [
      "El plan:\n",
      "\n",
      "- Resolver la ecuaci\u00f3n de onda para intrumentos de cuerda, en particular cuerda percutida (piano), buscar otro modelo, ie. otra ecuaci\u00f3n diferencial a resolver distinta a la del Giordano (sin excluir esta) y comparar los resultados obtenidos.\n",
      "\n",
      "- Generar un piano digital, es decir una base de datos basada en los datos reales de un piano, con longitudes y grosores de las cuerdas correspondientes, lo que generar\u00e1 un modelo de vibraci\u00f3n para cada una de las cuerdas con las correspondientes frecuencias de vibraci\u00f3n en cada una de ellas, ie. se genera toda una familia de funciones, vistas a manera de arreglo, y(x,t) que nos permita reproducirla, durante un tiempo determinado, usando el paquete AudioIO\n",
      "\n",
      "- Utilizando esta base de datos, generar una implementaci\u00f3n para llamar dichos arreglos y reproducirlos tecleando desde una terminal, bas\u00e1ndonos en el programa Aldo's Pianito, para generar un piano simple en base al modelo f\u00edsico que se ha empleado.\n",
      "\n",
      "Claro est\u00e1 que se puede cambiar el sonido generado al modificar par\u00e1metros en el modelo, como la tensi\u00f3n o la forma del pulso.\n"
     ]
    },
    {
     "cell_type": "heading",
     "level": 1,
     "metadata": {},
     "source": [
      "Modelo num\u00e9rico de instrumentos musicales de cuerda percutida o pulsada."
     ]
    },
    {
     "cell_type": "markdown",
     "metadata": {},
     "source": [
      "La ecuaci\u00f3n de onda de una cuerda es:\n",
      "$$ \\frac{\\partial^2 y}{\\partial t^2} = c^2 \\frac{\\partial^2 y}{\\partial x^2}$$ \n",
      "\n",
      "Donde $y(c,t)$ es el desplazamiento transversal de la cuerda, $x$ corre sobre la longitud de la cuerda, y $c$ es la velocidad de la onda, en una cuerda flexible, $c=\\sqrt{T/\\mu}$, con $T$ como la tensi\u00f3n y $\\mu$ la masa por unidad de longitud.\n",
      "\n",
      "No es suficiente con resolve la ecuaci\u00f3n pues se requiere conocer c\u00f3mo es esta pulsada, en general se puede describir como una amplitud en un cierto punto, en donde es pulsada. Una cuerda de longitud $L$ es pulsada a una ciera distancia del puente del instrumento, d\u00edagase $L_p$, se define la \"relaci\u00f3n de pulsamiento\" como $\\beta=L_p / L$, esta variable determinar\u00e1, tambi\u00e9n c\u00f3mo es que suena la cuerda."
     ]
    },
    {
     "cell_type": "heading",
     "level": 2,
     "metadata": {},
     "source": [
      "Soluci\u00f3n num\u00e9rica a la ecuaci\u00f3n de onda"
     ]
    },
    {
     "cell_type": "heading",
     "level": 3,
     "metadata": {},
     "source": [
      "Una guitarra (intrumentos de cuerda pusada)"
     ]
    },
    {
     "cell_type": "markdown",
     "metadata": {},
     "source": [
      "Se discretiza el tiempo y el espacio, sea el paso en el tiempo $\\Delta t$ y el paso espacial $\\Delta x$, al escribir el desplazamiento de la cuerda como una funci\u00f3n de esta variables discretas con $y(x,t)\\rightarrow y(i\\Delta x, n\\Delta t) \\rightarrow y(i,n)$, donde $i$ y $n$ son el n\u00famero de paso (entero) correspondiente en cada una de las coordenas, las derivadas pueden escribirse en t\u00e9rminos de diferencias finitas. (Quiz\u00e1 sea mejor discretizar como lo \"hicimos\" con Poisson para resolver el sistema de ecuaciones en 3 dimensiones $x,y,t$)\n",
      "\n",
      "$$ \\frac{y(i,n+1)+y(i,n-1)-2y(i,n)}{(\\Delta t)^2} \\approx c^2 \\frac{y(i+1,n)+y(i-1,n)-2y(i,n)}{(\\Delta x)^2}$$\n",
      "\n",
      "Arreglamos esta expresi\u00f3n para obtener el siguiente desplazamiento de la cuerda en el tiempo $n+1$\n",
      "\n",
      "$$y(i,n+1)=2[1-r^2]y(i,n)-y(i,n-1)+r^2 [y(i+1,n)+y(i-1,n)]$$\n",
      "\n",
      "donde se defini\u00f3 a $r=c\\Delta t /\\Delta x$\n",
      "Se debe de considerar que el final de la cuerda tiene las condiciones de frontera $y(i=0,n)=y(i=M,n)=0$\n",
      "Es decir, debemos resolver la ecuaci\u00f3n de onda, mediante diferencias finitas en dos dimensiones, afortunadamente, el problema deber\u00eda ser cuadrado, si elegimos correctamente el tama\u00f1o de paso tanto en $x$ como en $t$. (Ver cap\u00edtulo 6 del Giordano)\n",
      "\n",
      "Este modelo claro est\u00e1 que no esta considerando el amortiguamiento de la vibraci\u00f3n. Para conocer el sonido final necesitamos conocer c\u00f3mo vibra la caja de resonancia y  como las vibraciones de la caja de resonancia producen ondas de presion en el aire circundante. En general es un problema complicado, pero puede obtenerse de manera simple un sonido estimado. Hemos de notar que la cuerda pasa sobre un puente que est\u00e1 sobre la caja de resonancia, transmitiendo las vibraciones a este, el puente est\u00e1 firmemente colocado sobre la caja de resonancia, por lo que la fuerza de la cuerda sobre el puente se transmite directamente a la caja de resonancia. Ahora, la velocidad de la caja de resonancia es proporcional a esta fuerza, m\u00e1s aun, la presi\u00f3n producida por la caja de resonancia es aproximadamente proporcional a la velocidad de la tabla, por lo que podemos estimar la presi\u00f3n sonora como una seal que es proporcional a la fuerza que la cueda ejerce sobre el puente. Es decir, tratamos con la fuerza de la cuerda sobre el puente, perpendicular al plano de la caja de resonancia. En los c\u00e1lculos, esta fierza en el final de la cuerda en $x=i=0$ es igual a $F_{puente} = T (\\partial y / \\partial x)$, haciendo la aproximaci\u00f3n discreta (que para entonces esos puntos ya estar\u00e1n calculados)\n",
      "\n",
      "$$F_{puente}=T \\left.\\frac{\\partial y}{\\partial x}\\right|_{x=0} = T\\frac{y(1,n)-y(0,n)}{\\Delta x}$$\n",
      "\n",
      "Lo que se obtiene es una fuerza sobre el puente a un tiempo n. Ahora hemos de hacer una transformada r\u00e1pida de Fourier sobre la se\u00f1al de la fuerza para entender las frecuencias que se obtendr\u00e1n del sonido."
     ]
    },
    {
     "cell_type": "code",
     "collapsed": false,
     "input": [
      "A=[1 2 3 4; 4 1 5 3; 5 1 4 9]"
     ],
     "language": "python",
     "metadata": {},
     "outputs": [
      {
       "metadata": {},
       "output_type": "pyout",
       "prompt_number": 1,
       "text": [
        "3x4 Array{Int64,2}:\n",
        " 1  2  3  4\n",
        " 4  1  5  3\n",
        " 5  1  4  9"
       ]
      }
     ],
     "prompt_number": 1
    },
    {
     "cell_type": "code",
     "collapsed": false,
     "input": [
      "A[1,3]"
     ],
     "language": "python",
     "metadata": {},
     "outputs": [
      {
       "metadata": {},
       "output_type": "pyout",
       "prompt_number": 2,
       "text": [
        "3"
       ]
      }
     ],
     "prompt_number": 2
    },
    {
     "cell_type": "markdown",
     "metadata": {},
     "source": [
      "Creo que la condici\u00f3n inicial tendr\u00eda que estar dada por alguna funci\u00f3n, de la cual se calcular\u00e1n algunos puntos, M puntos."
     ]
    },
    {
     "cell_type": "code",
     "collapsed": false,
     "input": [
      "function GUITARRA(Condin, T, \u03bc, h_x, h_t, N) #T es la tensi\u00f3n de la cuerda, \u03bc es la masa, h_ el tama\u00f1o de paso \u0394x o \u0394x, N el n\u00famero de pasos de t\n",
      "    Condin=hcat(Condin...)\n",
      "    c=sqrt(T/\u03bc) #velocidad de la cuerda\n",
      "    r=c*h_t/h_x#constante\n",
      "    M=length(Condin) #n\u00famero de puntos y de la condici\u00f3n inicial\n",
      "    Y=zeros(N,M) \n",
      "    Y[1,:]=Condin\n",
      "    Y[2,:]=Condin\n",
      "    \n",
      "    for n in 2:N-1 #El primer rengl\u00f3n que llenar\u00e9 ser\u00e1 el tercer rengl\u00f3n, aunque sea n=3, representar\u00e1 el primer paso de tiempo\n",
      "        for i in 2:M-1  #para no variar las condiciones de frontera Y[n,1]=Y[n,M]=0\n",
      "            Y[n+1,i]=2*(1-r^2)*Y[n,i]-Y[n-1,i] + (r^2)*(Y[n,i+1]+big(Y[n,i-1])) #ojo, la numeraci\u00f3n de renglones y columnas comienza en 1\n",
      "        end\n",
      "    end\n",
      "    Y #me devuelve la matriz de posiciones Y de la cuerda a todo tiempo\n",
      "end   "
     ],
     "language": "python",
     "metadata": {},
     "outputs": [
      {
       "metadata": {},
       "output_type": "pyout",
       "prompt_number": 3,
       "text": [
        "GUITARRA (generic function with 1 method)"
       ]
      }
     ],
     "prompt_number": 3
    },
    {
     "cell_type": "code",
     "collapsed": false,
     "input": [
      "\u0394x=0.001;\n",
      "L = 1\n",
      "T = 100;\n",
      "\u03bc = 0.1;\n",
      "\u0394t=\u0394x/sqrt(T/\u03bc);\n",
      "parte = \u0394x/L\n",
      "N = int(1/parte)\n",
      "CI=[0.005*exp(-1000*(x-0.3)^2) for x in 0:\u0394x:L];"
     ],
     "language": "python",
     "metadata": {},
     "outputs": [],
     "prompt_number": 47
    },
    {
     "cell_type": "code",
     "collapsed": false,
     "input": [
      "\n"
     ],
     "language": "python",
     "metadata": {},
     "outputs": [],
     "prompt_number": 48
    },
    {
     "cell_type": "code",
     "collapsed": false,
     "input": [
      "PRIMERA=GUITARRA(CI, T, \u03bc, \u0394x, \u0394t, N);  #T es la tensi\u00f3n de la cuerda, \u03bc es la masa, h_ el tama\u00f1o de paso \u0394x o \u0394x, N el n\u00famero de pasos de t"
     ],
     "language": "python",
     "metadata": {},
     "outputs": [
      {
       "metadata": {},
       "output_type": "pyout",
       "prompt_number": 49,
       "text": [
        "1000x1001 Array{Float64,2}:\n",
        " 4.09701e-42  7.45777e-42  1.35482e-41  \u2026  3.17872e-215  7.84646e-216\n",
        " 4.09701e-42  7.45777e-42  1.35482e-41     3.17872e-215  7.84646e-216\n",
        " 0.0          1.01875e-41  1.84729e-41     1.04576e-214  0.0         \n",
        " 0.0          1.10151e-41  3.00693e-41     3.90046e-214  0.0         \n",
        " 0.0          1.98818e-41  4.68288e-41     1.56965e-213  0.0         \n",
        " 0.0          3.58136e-41  8.42642e-41  \u2026  6.30403e-213  0.0         \n",
        " 0.0          6.43824e-41  1.51322e-40     2.52677e-212  0.0         \n",
        " 0.0          1.15508e-40  2.71199e-40     1.01075e-211  0.0         \n",
        " 0.0          2.06817e-40  4.85067e-40     4.03507e-211  0.0         \n",
        " 0.0          3.69559e-40  8.65852e-40     1.60764e-210  0.0         \n",
        " 0.0          6.59036e-40  1.54246e-39  \u2026  6.39233e-210  0.0         \n",
        " 0.0          1.1729e-39   2.74227e-39     2.53664e-209  0.0         \n",
        " 0.0          2.08324e-39  4.86559e-39     1.00459e-208  0.0         \n",
        " \u22ee                                      \u22f1                \u22ee           \n",
        " 0.0          0.0          0.0             0.0           0.0         \n",
        " 0.0          0.0          0.0             0.0           0.0         \n",
        " 0.0          0.0          0.0          \u2026  0.0           0.0         \n",
        " 0.0          0.0          0.0             0.0           0.0         \n",
        " 0.0          0.0          0.0             0.0           0.0         \n",
        " 0.0          0.0          0.0             0.0           0.0         \n",
        " 0.0          0.0          0.0             0.0           0.0         \n",
        " 0.0          0.0          0.0          \u2026  0.0           0.0         \n",
        " 0.0          0.0          0.0             0.0           0.0         \n",
        " 0.0          0.0          0.0             0.0           0.0         \n",
        " 0.0          0.0          0.0             0.0           0.0         \n",
        " 0.0          0.0          0.0             0.0           0.0         "
       ]
      }
     ],
     "prompt_number": 49
    },
    {
     "cell_type": "code",
     "collapsed": false,
     "input": [
      "function Fuerza_Puente(Matriz_Cuerda,paso_espacio, paso_tiempo,tension)\n",
      "    Puntos_Puente = Matriz_Cuerda[:,1:2]\n",
      "    Sonido = zeros(Puntos_Puente)\n",
      "    tama\u00f1o = length(Sonido[:,1])\n",
      "    for i in 2:tama\u00f1o\n",
      "        fuerza = tension*(Puntos_Puente[i,2]-Puntos_Puente[i,1])/paso_espacio\n",
      "        tiempo = (i-2)*paso_tiempo\n",
      "        Sonido[i,1] = tiempo\n",
      "        Sonido[i,2] = fuerza\n",
      "    end\n",
      "    Sonido\n",
      "end"
     ],
     "language": "python",
     "metadata": {},
     "outputs": [
      {
       "metadata": {},
       "output_type": "pyout",
       "prompt_number": 50,
       "text": [
        "Fuerza_Puente (generic function with 1 method)"
       ]
      }
     ],
     "prompt_number": 50
    },
    {
     "cell_type": "code",
     "collapsed": false,
     "input": [
      "fuerzas = Fuerza_Puente(PRIMERA,\u0394x,\u0394t,T)"
     ],
     "language": "python",
     "metadata": {},
     "outputs": [
      {
       "metadata": {},
       "output_type": "pyout",
       "prompt_number": 51,
       "text": [
        "1000x2 Array{Float64,2}:\n",
        " 0.0          0.0        \n",
        " 0.0          3.36076e-37\n",
        " 3.16228e-5   1.01875e-36\n",
        " 6.32456e-5   1.10151e-36\n",
        " 9.48683e-5   1.98818e-36\n",
        " 0.000126491  3.58136e-36\n",
        " 0.000158114  6.43824e-36\n",
        " 0.000189737  1.15508e-35\n",
        " 0.000221359  2.06817e-35\n",
        " 0.000252982  3.69559e-35\n",
        " 0.000284605  6.59036e-35\n",
        " 0.000316228  1.1729e-34 \n",
        " 0.000347851  2.08324e-34\n",
        " \u22ee                       \n",
        " 0.0312117    0.0        \n",
        " 0.0312433    0.0        \n",
        " 0.0312749    0.0        \n",
        " 0.0313065    0.0        \n",
        " 0.0313382    0.0        \n",
        " 0.0313698    0.0        \n",
        " 0.0314014    0.0        \n",
        " 0.031433     0.0        \n",
        " 0.0314647    0.0        \n",
        " 0.0314963    0.0        \n",
        " 0.0315279    0.0        \n",
        " 0.0315595    0.0        "
       ]
      }
     ],
     "prompt_number": 51
    },
    {
     "cell_type": "code",
     "collapsed": false,
     "input": [
      "Pkg.update()"
     ],
     "language": "python",
     "metadata": {},
     "outputs": [
      {
       "output_type": "stream",
       "stream": "stderr",
       "text": [
        "INFO: Updating METADATA...\n"
       ]
      },
      {
       "output_type": "stream",
       "stream": "stderr",
       "text": [
        "INFO: Computing changes...\n",
        "INFO: No packages to install, update or remove\n"
       ]
      }
     ],
     "prompt_number": 18
    },
    {
     "cell_type": "code",
     "collapsed": false,
     "input": [
      "using PyPlot"
     ],
     "language": "python",
     "metadata": {},
     "outputs": [
      {
       "output_type": "stream",
       "stream": "stderr",
       "text": [
        "INFO: Loading help data...\n"
       ]
      }
     ],
     "prompt_number": 69
    },
    {
     "cell_type": "code",
     "collapsed": false,
     "input": [
      "vcat(PRIMERA[1,:]...);"
     ],
     "language": "python",
     "metadata": {},
     "outputs": [],
     "prompt_number": 52
    },
    {
     "cell_type": "code",
     "collapsed": false,
     "input": [
      "X=[0:\u0394x:1]\n",
      "for i in 1:length(vcat(PRIMERA[1,:]...))\n",
      "    plot(X,vcat(PRIMERA[i,:]...))\n",
      "end"
     ],
     "language": "python",
     "metadata": {},
     "outputs": [
      {
       "ename": "LoadError",
       "evalue": "BoundsError()\nwhile loading In[58], in expression starting on line 2",
       "output_type": "pyerr",
       "traceback": [
        "BoundsError()\nwhile loading In[58], in expression starting on line 2",
        "",
        " in getindex at /home/csar/.julia/v0.3/PyCall/src/PyCall.jl:249",
        " in pysequence_query at /home/csar/.julia/v0.3/PyCall/src/conversions.jl:748",
        " in pytype_query at /home/csar/.julia/v0.3/PyCall/src/conversions.jl:764",
        " in convert at /home/csar/.julia/v0.3/PyCall/src/conversions.jl:814",
        " in pycall at /home/csar/.julia/v0.3/PyCall/src/PyCall.jl:412",
        " in fn at /home/csar/.julia/v0.3/PyCall/src/conversions.jl:181",
        " in close_queued_figs at /home/csar/.julia/v0.3/PyPlot/src/PyPlot.jl:295"
       ]
      }
     ],
     "prompt_number": 58
    },
    {
     "cell_type": "code",
     "collapsed": false,
     "input": [
      "length(X) == length(vcat(PRIMERA[1,:]...))"
     ],
     "language": "python",
     "metadata": {},
     "outputs": [
      {
       "metadata": {},
       "output_type": "pyout",
       "prompt_number": 57,
       "text": [
        "true"
       ]
      }
     ],
     "prompt_number": 57
    },
    {
     "cell_type": "code",
     "collapsed": false,
     "input": [
      "plot(fuerzas[:,1],fuerzas[:,2])"
     ],
     "language": "python",
     "metadata": {},
     "outputs": [
      {
       "metadata": {},
       "output_type": "display_data",
       "png": "[encoded data removed]",
       "text": [
        "Figure(PyObject <matplotlib.figure.Figure object at 0x7ffc99fb7320>)"
       ]
      },
      {
       "metadata": {},
       "output_type": "pyout",
       "prompt_number": 54,
       "text": [
        "1-element Array{Any,1}:\n",
        " PyObject <matplotlib.lines.Line2D object at 0x7ffc999fe908>"
       ]
      }
     ],
     "prompt_number": 54
    },
    {
     "cell_type": "code",
     "collapsed": false,
     "input": [
      "plot(0:\u0394x:1,CI)"
     ],
     "language": "python",
     "metadata": {},
     "outputs": [
      {
       "metadata": {},
       "output_type": "display_data",
       "png": "[encoded data removed]",
       "text": [
        "Figure(PyObject <matplotlib.figure.Figure object at 0x7ffc9a671780>)"
       ]
      },
      {
       "metadata": {},
       "output_type": "pyout",
       "prompt_number": 44,
       "text": [
        "1-element Array{Any,1}:\n",
        " PyObject <matplotlib.lines.Line2D object at 0x7ffc99f63b38>"
       ]
      }
     ],
     "prompt_number": 44
    },
    {
     "cell_type": "code",
     "collapsed": false,
     "input": [
      "function pico(\u03b2,Longitud,amplitud,\u0394x)\n",
      "    parte = \u0394x/Longitud\n",
      "    M=int(1/parte)\n",
      "    L_h = Longitud*\u03b2\n",
      "    y = [1:M+1]*0.0\n",
      "    N = int(L_h/\u0394x)\n",
      "    equis = [0:\u0394x:M]\n",
      "    for i in 2:N\n",
      "        y[i] = amplitud/L_h *\u0394x*i\n",
      "        \n",
      "    end\n",
      "    for i in (N+1):M\n",
      "        y[i]=-amplitud/(Longitud-L_h) * (\u0394x*i-L_h)+amplitud\n",
      "    end\n",
      "    equis,y\n",
      "end"
     ],
     "language": "python",
     "metadata": {},
     "outputs": [
      {
       "metadata": {},
       "output_type": "pyout",
       "prompt_number": 66,
       "text": [
        "pico (generic function with 1 method)"
       ]
      }
     ],
     "prompt_number": 66
    },
    {
     "cell_type": "code",
     "collapsed": false,
     "input": [
      "picos = pico(1/5, 1, 0.03, 0.01)"
     ],
     "language": "python",
     "metadata": {},
     "outputs": [
      {
       "metadata": {},
       "output_type": "pyout",
       "prompt_number": 68,
       "text": [
        "([0.0,0.01,0.02,0.03,0.04,0.05,0.06,0.07,0.08,0.09  \u2026  99.91,99.92,99.93,99.94,99.95,99.96,99.97,99.98,99.99,100.0],[0.0,0.003,0.0045,0.006,0.0075,0.009,0.0105,0.012,0.0135,0.015  \u2026  0.003,0.002625,0.00225,0.001875,0.0015,0.001125,0.00075,0.000375,0.0,0.0])"
       ]
      }
     ],
     "prompt_number": 68
    },
    {
     "cell_type": "code",
     "collapsed": false,
     "input": [
      "plot(picos)"
     ],
     "language": "python",
     "metadata": {},
     "outputs": [
      {
       "ename": "LoadError",
       "evalue": "picos not defined\nwhile loading In[70], in expression starting on line 1",
       "output_type": "pyerr",
       "traceback": [
        "picos not defined\nwhile loading In[70], in expression starting on line 1",
        ""
       ]
      }
     ],
     "prompt_number": 70
    },
    {
     "cell_type": "code",
     "collapsed": false,
     "input": [
      "k=[0:2]"
     ],
     "language": "python",
     "metadata": {},
     "outputs": [
      {
       "metadata": {},
       "output_type": "pyout",
       "prompt_number": 4,
       "text": [
        "3-element Array{Int64,1}:\n",
        " 0\n",
        " 1\n",
        " 2"
       ]
      }
     ],
     "prompt_number": 4
    },
    {
     "cell_type": "code",
     "collapsed": false,
     "input": [
      "k[1]"
     ],
     "language": "python",
     "metadata": {},
     "outputs": [
      {
       "metadata": {},
       "output_type": "pyout",
       "prompt_number": 5,
       "text": [
        "0"
       ]
      }
     ],
     "prompt_number": 5
    },
    {
     "cell_type": "heading",
     "level": 3,
     "metadata": {},
     "source": [
      "Un piano (instrumentos de cuerda percutida)"
     ]
    },
    {
     "cell_type": "markdown",
     "metadata": {},
     "source": [
      "A diferencia el caso anterior, en donde tenemos un pulso y vemos c\u00f3mo var\u00eda en el tiempo, ahora tenemos como condici\u00f3n inicial una cuerda en la que inicialmente $y(x)=0 \\space \\forall x$, que luego es golpeada en alg\u00fan punto por un objeto (d\u00edgase, el mart\u00edllo de la tecla de un piano).\n",
      "Estudios experimentales sobre los martillos de los pianos muestran que actian como resortes no lineales. Digamos que $z_f$ es la cantidad del resorte que es comprimida, ie. $z_f$ es la cantidad que el fieltro que cubre el martillo es comprimido cunado colisiona con la cuerda, podemos aproximar esta fuerza por:\n",
      "\n",
      "$$F_h (z_f) = K z_f ^p$$\n",
      "\n",
      "En donde K es una constante de rigidez, donde el exponente $p$ mide la \"fuerza\" de la no linearidad, en experimentos se encuentra que $p\\approx 3$ para los martillos de un piano.\n",
      "El tratamiento resultar\u00e1 similar a la aproximaci\u00f3n hecha para la guitarra, salvo que ahora la cuerda del piano es exitada. En un piano la cuerda est\u00e1 inicialmente tambi\u00e9n en reposo, pero con $y=0$ en todas partes, el martillo golpea en t=0 mantieniendo contacto un periodo corto de tiempo, y una fuerza externa, $F_h$ actua sobre la cuerda, por lo que ahora debemos agregar esta fuerza en la ecuaci\u00f3n de movimiento.\n",
      "El martillo hace contacto en un peque\u00f1o segmento de la cuerda, estos los etiquetaremos como una serie de elementos discretos $i$, con correspondientes desplazamientos $y(i)$. Cada uno de estos elementos de la cuerda tendran una longitud $\\Delta x$ y una masa $\\mu\\Delta x$, donde $\\mu$ es la densidad longitudinal de masa. Luego la ecuaci\u00f3n de onda que ten\u00edamos antes, multiplicandola a ambos lados por $\\mu\\Delta x$\n",
      "\n",
      "$$(\\mu\\Delta x)\\frac{\\partial ^2 y(i)}{\\partial t^2}=(\\mu\\Delta x) c^2 \\frac{\\partial^2 y(i)}{\\partial x^2}$$\n",
      "\n",
      "Para agregar al modelo la fuerza externa, la del martillo, s\u00f3lo la agregamos al lado derecho de la ecuaci\u00f3n\n",
      "$$(\\mu\\Delta x)\\frac{\\partial ^2 y(i)}{\\partial t^2}=(\\mu\\Delta x) c^2 \\frac{\\partial^2 y(i)}{\\partial x^2} + F_h$$\n",
      "\n",
      "Siguiendo la discretizaci\u00f3n que se hab\u00eda hecho antes en la discusi\u00f3n anterior y despejando $y(i,n+1)$ resulta\n",
      "\n",
      "$$y(i,n+1)=2[1-r^2]y(i,n)-y(i,n-1)+r^2 [y(i+1,n)+y(i-1,n)]+\\frac{(\\Delta t)^2}{\\mu\\Delta x} F_h $$\n",
      "\n",
      "donde $r = c\\Delta t / \\Delta x$. Necesitamos ahora un modelo para el movimiento del martillo, el cual se acelera r\u00e1pidamente cuando se presiona una tecla y el mecanismo suelta el martillo justo antes de golpear la cuerda, mecanismo conocido como escape, por lo que podemos tratar el martillo como una masa simple que se mueve libremente con una velocidad $v_h$ justo antes de tocar a la cuerda, con lo que\n",
      "\n",
      "$$m_h a_h = -F_h$$\n",
      "donde $a_h$ es la aceleraci\u00f3n del martillo y $m_h$ su masa. Podemos calcular, por ejemplo el m\u00e9todo de euler para calcular la posici\u00f3n del martillo $z_h$ y su velocidad $v_h$ (yo la verdad elegrir\u00eda el m\u00e9todo de Euler-Cromer por ser simpl\u00e9ctico), en el paso $n+1$\n",
      "\n",
      "$$z_h(n+1)=z_h(n)+v_h(n)\\Delta t$$\n",
      "$$v_h(n+1)=v_h(n)+a_h(n)\\Delta t \\space \\blacksquare$$\n",
      "\n",
      "La fuerza del martillo depente de la compresi\u00f3n del fieltro $z_f$, esta compresi\u00f3n es igual a la diferencia entre la posici\u00f3n del martillo y el desplazamiento al centro del martillo, ie. el desplazamiento m\u00e1ximo generado por la cuerda. Los martillos reales no golpean a la cuerda solamente en un punto, sino que distribuyen su fuerza sobre toda una regi\u00f3n del a cuerda\n",
      "\n",
      "Seg\u00fan Giordano, esta es la idea que debemos seguir para la simulaci\u00f3n del piano (creo que lo m\u00e1s dificil ser\u00e1 resolver el sistema de ecuaciones):\n",
      "\n",
      "-Encontrar la fuerza entre el martillo y la cuerda usando la relaci\u00f3n $F_h (z_f) = K z_f ^p$ donde $z_f = y_{contacto}(n)-z_h(n)$, donde $y_{contacto}(n)$ es el desplazamiento de la cuerda en el punto de contacto entre el martillo y la cuerda.\n",
      "-Notar que $F_h=0$ despu\u00e9s que el martillo piede contacto con la cuerda, cuando $z_f$ se hace negativo.\n",
      "-Calcular la nueva forma de la cuerda usando $y(i,n+1)=2[1-r^2]y(i,n)-y(i,n-1)+r^2 [y(i+1,n)+y(i-1,n)]+\\frac{(\\Delta t)^2}{\\mu\\Delta x} F_h $\n",
      "-Calcular la nueva velocidad y posici\u00f3n del martillo, mediante $\\blacksquare$"
     ]
    },
    {
     "cell_type": "code",
     "collapsed": false,
     "input": [
      "condin = CI*0"
     ],
     "language": "python",
     "metadata": {},
     "outputs": [
      {
       "metadata": {},
       "output_type": "pyout",
       "prompt_number": 26,
       "text": [
        "101-element Array{Any,1}:\n",
        " 0.0\n",
        " 0.0\n",
        " 0.0\n",
        " 0.0\n",
        " 0.0\n",
        " 0.0\n",
        " 0.0\n",
        " 0.0\n",
        " 0.0\n",
        " 0.0\n",
        " 0.0\n",
        " 0.0\n",
        " 0.0\n",
        " \u22ee  \n",
        " 0.0\n",
        " 0.0\n",
        " 0.0\n",
        " 0.0\n",
        " 0.0\n",
        " 0.0\n",
        " 0.0\n",
        " 0.0\n",
        " 0.0\n",
        " 0.0\n",
        " 0.0\n",
        " 0.0"
       ]
      }
     ],
     "prompt_number": 26
    },
    {
     "cell_type": "code",
     "collapsed": false,
     "input": [
      "function eulercromer(ti,q0,v0,fq,fv,h)\n",
      "    v_nueva = v0 + h*fv(ti,q0,v0)\n",
      "    q_nueva = q0 + h*fq(ti+h,q0,v_nueva)\n",
      "    q_nueva , v_nueva\n",
      "end"
     ],
     "language": "python",
     "metadata": {},
     "outputs": [
      {
       "metadata": {},
       "output_type": "pyout",
       "prompt_number": 16,
       "text": [
        "eulercromer (generic function with 1 method)"
       ]
      }
     ],
     "prompt_number": 16
    },
    {
     "cell_type": "code",
     "collapsed": false,
     "input": [
      "function integrar (t0,tf,q0,v0,fq,fv,h)\n",
      "  v = Vector{Float64}[v0] #Arreglo para los vectores de velocidad\n",
      "  q = Vector{Float64}[q0] #Arreglo para los vectores de posici\u00f3n\n",
      "  t = Float64[t0] #arreglo de tiempo\n",
      "    \n",
      "\n",
      "        for ti in t0:h:tf\n",
      "            R = eulercromer(ti,q0,v0,fq,fv,h)\n",
      "            v0 = R[2]\n",
      "            q0 = R[1]\n",
      "            \n",
      "            push!(t,ti)\n",
      "            push!(v,[v0])\n",
      "            push!(q,[q0])\n",
      "        end\n",
      "        [t hcat(q...)' hcat(v...)']\n",
      "end"
     ],
     "language": "python",
     "metadata": {},
     "outputs": []
    },
    {
     "cell_type": "code",
     "collapsed": false,
     "input": [
      "function f_q(t,q,v)\n",
      "    v\n",
      "end\n",
      "\n",
      "function f_v(t,q,v)\n",
      "    -\u03ba*q\n",
      "end"
     ],
     "language": "python",
     "metadata": {},
     "outputs": []
    },
    {
     "cell_type": "code",
     "collapsed": false,
     "input": [
      "function fuerza_martillo(punto_martillo,punto_cuerda,K,\u03b2)\n",
      "    indice_golpe = \u03b2*length(punto_cuerda)\n",
      "    zf = punto_cuerda[indice_golpe] - punto_martillo\n",
      "    fh = zf*0\n",
      "    for i in 1:length(punto_cuerda)\n",
      "        if i = indice_golpe\n",
      "            if zf[i] >= 0\n",
      "                fh[i] = K*(zf[i])^3\n",
      "            else\n",
      "                fh[i]=0\n",
      "            end\n",
      "        else\n",
      "            fh[i]=0\n",
      "        end\n",
      "    return fh\n",
      "end"
     ],
     "language": "python",
     "metadata": {},
     "outputs": [
      {
       "metadata": {},
       "output_type": "pyout",
       "prompt_number": 15,
       "text": [
        "fuerza_martillo (generic function with 1 method)"
       ]
      }
     ],
     "prompt_number": 15
    },
    {
     "cell_type": "code",
     "collapsed": false,
     "input": [
      "function Piano(Condin,,fmartillo, T, \u03bc, h_x, h_t, N) #T es la tensi\u00f3n de la cuerda, \u03bc es la masa, h_ el tama\u00f1o de paso \u0394x o \u0394x, N el n\u00famero de pasos de t\n",
      "    Condin=hcat(Condin...)\n",
      "    c=sqrt(T/\u03bc) #velocidad de la cuerda\n",
      "    r=c*h_t/h_x#constante\n",
      "    M=length(Condin) #n\u00famero de puntos y de la condici\u00f3n inicial\n",
      "    Y=zeros(N,M) \n",
      "    Y[1,:]=Condin\n",
      "    Y[2,:]=Condin\n",
      "    \n",
      "    for n in 2:N-1 #El primer rengl\u00f3n que llenar\u00e9 ser\u00e1 el tercer rengl\u00f3n, aunque sea n=3, representar\u00e1 el primer paso de tiempo\n",
      "        for i in 2:M-1  #para no variar las condiciones de frontera Y[n,1]=Y[n,M]=0\n",
      "            Y[n+1,i]=2*(1-r^2)*Y[n,i]-Y[n-1,i] + (r^2)*(Y[n,i+1]+big(Y[n,i-1]))+(h_t^2/(\u03bc*h_x))*fmartillo[,Y[n,i]] #ojo, la numeraci\u00f3n de renglones y columnas comienza en 1\n",
      "        end\n",
      "    end\n",
      "    Y #me devuelve la matriz de posiciones Y de la cuerda a todo tiempo\n",
      "end   "
     ],
     "language": "python",
     "metadata": {},
     "outputs": []
    },
    {
     "cell_type": "heading",
     "level": 2,
     "metadata": {},
     "source": [
      "Sobre la discretizaci\u00f3n necesaria"
     ]
    },
    {
     "cell_type": "markdown",
     "metadata": {},
     "source": [
      "El meollo del asunto es resolver la ecuaci\u00f3n de onda asociada a la cuerda, $y(x,t)$ es una funci\u00f3n que depende claramente de dos variables, que salvo por el t\u00e9rmino $c^2$ el problema debe ser similar a la resoluci\u00f3n de la ecuaci\u00f3n de Poisson. La ecuaci\u00f3n es una ecuaci\u00f3n parcial de segundo orden el\u00edptica, lo que sugiere que el m\u00e9todo de relajaci\u00f3n se puede aplicar a su soluci\u00f3n pero se resolver\u00e1 mediante diferencias finitas.\n",
      "\n",
      "Sean $\\Delta x$ y $\\Delta t$ los valores de discretizaci\u00f3n de las variables corespondientes donde se cumple que $x = h \\Delta x$ y $t = i \\Delta t$, donde $h$ e $i$ son enteros desde 0 hasta $L/\\Delta x$ con $L$ la longitud de la cuerda. Deseamos conocer el valor de y(x,t)=y(h\\Delta x, i  \\Delta t). Aproximando la primera derivada\n",
      "\n",
      "$$\\frac{\\partial y}{\\partial x} = \\frac{y(h+1,i)-y(h,i)}{\\Delta x}$$\n",
      "o equivalentemente\n",
      "$$\\frac{\\partial y}{\\partial x} = \\frac{y(h+1,i)-y(h-1,i)}{2 \\Delta x}$$\n",
      "\n",
      "Dependiendo del problema que tengamos (o el istema de \u00edndices que nos sea m\u00e1s conveniente) se elegir\u00e1 entre cualquiera de estas dos ecuaciones, cmo estamos frente a una derivada parcial de segundo orden es de notar que estamos centrados en una posici\u00f3n $(i+\n",
      "1/2)$, por lou que podemos escribir\n",
      "\n",
      "$$\\frac{\\partial ^2 y}{\\partial x^2}=\\frac{1}{\\Delta x} (\\frac{\\partial y}{\\partial x}(1+\\frac{1}{2})-\\frac{\\partial y}{\\partial x}(i-\\frac{1}{2}))$$\n",
      "\n",
      "luego haciendo un centrado como se hizo hace rato, podemos escribir\n",
      "$$\\frac{\\partial ^2 y}{\\partial x^2}=\\frac{1}{\\Delta x} [\\frac{y(h+1,i)-v(h,i)}{\\Delta x}-\\frac{y(h,i)-y(h-1,i)}{\\Delta x} ] $$\n",
      "se obtiene una expresi\u00f3n similar para el la parcial en el tiempo\n",
      "\n",
      "haciendo las sustituciones correspondientes se llega a, poniendo como sub\u00edndices las entradas $i,h$ correspondientes:\n",
      "$$y_{h,i}= \\frac{1}{-2c^2 \\Delta t\u00b2 + 2 \\Delta x^2}(- c^2 \\Delta t^2 (y_{n+1,i}+y_{n-1,i})+\\Delta x^2 (y_{n,i+1}+y_{n,i-1}) )$$\n",
      "que nos conformar\u00e1n un sistema de ecuaciones dadas las condiciones de frontera en el tiempo y el espacio, como ya se analiz\u00f3 con anterioridad.\n",
      "De hecho si se revizan las cuentas ambas son equivalentes.\n",
      "\n",
      "\u00a1FAVOR DE REVISARLAS!"
     ]
    },
    {
     "cell_type": "code",
     "collapsed": false,
     "input": [
      "using PyPlot"
     ],
     "language": "python",
     "metadata": {},
     "outputs": [],
     "prompt_number": 19
    },
    {
     "cell_type": "code",
     "collapsed": false,
     "input": [
      "x=sin(0:.01:2 *pi*4500*5)\n",
      "t=0:.01:2 *pi*4500*5"
     ],
     "language": "python",
     "metadata": {},
     "outputs": [
      {
       "output_type": "stream",
       "stream": "stderr",
       "text": [
        "ALSA lib pcm.c:7339:(snd_pcm_recover) underrun occurred\n",
        "WARNING: libportaudio: Output underflowed\n"
       ]
      },
      {
       "metadata": {},
       "output_type": "pyout",
       "prompt_number": 21,
       "text": [
        "0.0:0.01:141371.66"
       ]
      },
      {
       "output_type": "stream",
       "stream": "stderr",
       "text": [
        "ALSA lib pcm.c:7339:(snd_pcm_recover) underrun occurred\n",
        "WARNING: libportaudio: Output underflowed\n"
       ]
      }
     ],
     "prompt_number": 21
    },
    {
     "cell_type": "code",
     "collapsed": false,
     "input": [
      "plot(t[1:end],x[1:end])"
     ],
     "language": "python",
     "metadata": {},
     "outputs": [
      {
       "ename": "UndefVarError",
       "evalue": "jl_IOType not defined",
       "output_type": "pyerr",
       "traceback": [
        "jl_IOType not defined",
        "",
        " in map at tuple.jl:46",
        " in pycall at /home/csar/.julia/v0.3/PyCall/src/PyCall.jl:393",
        " in fn at /home/csar/.julia/v0.3/PyCall/src/conversions.jl:181",
        " in writemime at /home/csar/.julia/v0.3/PyPlot/src/PyPlot.jl:222",
        " in base64 at base64.jl:125",
        " in display_dict at /home/csar/.julia/v0.3/IJulia/src/execute_request.jl:34",
        " in display at /home/csar/.julia/v0.3/IJulia/src/inline.jl:35",
        " in display at multimedia.jl:149",
        " in display at /home/csar/.julia/v0.3/IJulia/src/inline.jl:56"
       ]
      }
     ],
     "prompt_number": 22
    },
    {
     "cell_type": "code",
     "collapsed": false,
     "input": [
      "using AudioIO"
     ],
     "language": "python",
     "metadata": {},
     "outputs": [],
     "prompt_number": 2
    },
    {
     "cell_type": "code",
     "collapsed": false,
     "input": [
      "play(x)"
     ],
     "language": "python",
     "metadata": {},
     "outputs": [
      {
       "output_type": "stream",
       "stream": "stderr",
       "text": [
        "ALSA lib pcm.c:7339:(snd_pcm_recover) underrun occurred\n",
        "WARNING: libportaudio: Output underflowed\n"
       ]
      },
      {
       "metadata": {},
       "output_type": "pyout",
       "prompt_number": 22,
       "text": [
        "AudioNode{ArrayRenderer}(true,Condition({}),ArrayRenderer(Float32[0.0,0.00999983,0.0199987,0.0299955,0.0399893,0.0499792,0.059964,0.0699428,0.0799147,0.0898786  \u2026  -0.0992479,-0.0892925,-0.0793281,-0.0693558,-0.0593766,-0.0493914,-0.0394013,-0.0294073,-0.0194103,-0.0094114],1,Float32[]))"
       ]
      },
      {
       "output_type": "stream",
       "stream": "stderr",
       "text": [
        "ALSA lib pcm.c:7339:(snd_pcm_recover) underrun occurred\n",
        "WARNING: libportaudio: Output underflowed\n"
       ]
      }
     ],
     "prompt_number": 22
    },
    {
     "cell_type": "code",
     "collapsed": false,
     "input": [
      "stop(x)"
     ],
     "language": "python",
     "metadata": {},
     "outputs": [
      {
       "ename": "LoadError",
       "evalue": "`stop` has no method matching stop(::Array{Float64,1})\nwhile loading In[24], in expression starting on line 1",
       "output_type": "pyerr",
       "traceback": [
        "`stop` has no method matching stop(::Array{Float64,1})\nwhile loading In[24], in expression starting on line 1",
        ""
       ]
      }
     ],
     "prompt_number": 24
    },
    {
     "cell_type": "code",
     "collapsed": false,
     "input": [
      "Pkg.add(\"AudioIO\")"
     ],
     "language": "python",
     "metadata": {},
     "outputs": [
      {
       "output_type": "stream",
       "stream": "stderr",
       "text": [
        "INFO: Nothing to be done\n",
        "ALSA lib pcm.c:7339:(snd_pcm_recover) underrun occurred\n",
        "WARNING: libportaudio: Output underflowed\n"
       ]
      }
     ],
     "prompt_number": 25
    },
    {
     "cell_type": "code",
     "collapsed": false,
     "input": [
      "using AudioIO"
     ],
     "language": "python",
     "metadata": {},
     "outputs": [],
     "prompt_number": 14
    },
    {
     "cell_type": "code",
     "collapsed": false,
     "input": [
      "osc1 = SinOsc(440)"
     ],
     "language": "python",
     "metadata": {},
     "outputs": [
      {
       "metadata": {},
       "output_type": "pyout",
       "prompt_number": 15,
       "text": [
        "AudioNode{SinOscRenderer{T<:Union(AudioNode{T<:AudioRenderer},Float32)}}(true,Condition({}),SinOscRenderer{Float32}(440.0f0,0.0f0,Float32[]))"
       ]
      }
     ],
     "prompt_number": 15
    },
    {
     "cell_type": "code",
     "collapsed": false,
     "input": [
      "play(osc1)"
     ],
     "language": "python",
     "metadata": {},
     "outputs": [
      {
       "output_type": "stream",
       "stream": "stderr",
       "text": [
        "INFO: Initializing PortAudio. Expect errors as we scan devices\n",
        "ALSA lib pcm_dsnoop.c:612:(snd_pcm_dsnoop_open) unable to open slave\n",
        "ALSA lib pcm_dmix.c:1018:(snd_pcm_dmix_open) unable to open slave\n",
        "ALSA lib pcm.c:2217:(snd_pcm_open_noupdate) Unknown PCM cards.pcm.rear\n",
        "ALSA lib pcm.c:2217:(snd_pcm_open_noupdate) Unknown PCM cards.pcm.center_lfe\n",
        "ALSA lib pcm.c:2217:(snd_pcm_open_noupdate) Unknown PCM cards.pcm.side\n",
        "ALSA lib audio/pcm_bluetooth.c:1614:(audioservice_expect) BT_GET_CAPABILITIES failed : Error de entrada/salida(5)\n",
        "ALSA lib audio/pcm_bluetooth.c:1614:(audioservice_expect) BT_GET_CAPABILITIES failed : Error de entrada/salida(5)\n",
        "ALSA lib audio/pcm_bluetooth.c:1614:(audioservice_expect) BT_GET_CAPABILITIES failed : Error de entrada/salida(5)\n",
        "ALSA lib audio/pcm_bluetooth.c:1614:(audioservice_expect) BT_GET_CAPABILITIES failed : Error de entrada/salida(5)\n",
        "ALSA lib pcm_dmix.c:957:(snd_pcm_dmix_open) The dmix plugin supports only playback stream\n",
        "ALSA lib pcm_dmix.c:1018:(snd_pcm_dmix_open) unable to open slave\n",
        "Cannot connect to server socket err = No existe el archivo o el directorio\n",
        "Cannot connect to server socket\n",
        "jack server is not running or cannot be started\n",
        "INFO: Scheduling PortAudio Render Task...\n"
       ]
      },
      {
       "output_type": "stream",
       "stream": "stderr",
       "text": [
        "INFO: PortAudio Render Task Running...\n"
       ]
      },
      {
       "metadata": {},
       "output_type": "pyout",
       "prompt_number": 16,
       "text": [
        "AudioNode{SinOscRenderer{T<:Union(AudioNode{T<:AudioRenderer},Float32)}}(true,Condition({}),SinOscRenderer{Float32}(440.0f0,0.0f0,Float32[]))"
       ]
      }
     ],
     "prompt_number": 16
    },
    {
     "cell_type": "code",
     "collapsed": false,
     "input": [
      "stop(osc1)"
     ],
     "language": "python",
     "metadata": {},
     "outputs": [
      {
       "output_type": "stream",
       "stream": "stderr",
       "text": [
        "ALSA lib pcm.c:7339:(snd_pcm_recover) underrun occurred\n",
        "WARNING: libportaudio: Output underflowed\n",
        "ALSA lib pcm.c:7339:(snd_pcm_recover) underrun occurred\n",
        "WARNING: libportaudio: Output underflowed\n"
       ]
      }
     ],
     "prompt_number": 17
    },
    {
     "cell_type": "code",
     "collapsed": false,
     "input": [],
     "language": "python",
     "metadata": {},
     "outputs": [
      {
       "ename": "LoadError",
       "evalue": "`endof` has no method matching endof(::AudioNode{SinOscRenderer{T<:Union(AudioNode{T<:AudioRenderer},Float32)}})\nwhile loading In[20], in expression starting on line 1",
       "output_type": "pyerr",
       "traceback": [
        "`endof` has no method matching endof(::AudioNode{SinOscRenderer{T<:Union(AudioNode{T<:AudioRenderer},Float32)}})\nwhile loading In[20], in expression starting on line 1",
        ""
       ]
      },
      {
       "output_type": "stream",
       "stream": "stderr",
       "text": [
        "ALSA lib pcm.c:7339:(snd_pcm_recover) underrun occurred\n",
        "WARNING: libportaudio: Output underflowed\n"
       ]
      }
     ],
     "prompt_number": 20
    },
    {
     "cell_type": "code",
     "collapsed": false,
     "input": [
      "1/0.0001"
     ],
     "language": "python",
     "metadata": {},
     "outputs": [
      {
       "metadata": {},
       "output_type": "pyout",
       "prompt_number": 32,
       "text": [
        "10000.0"
       ]
      }
     ],
     "prompt_number": 32
    },
    {
     "cell_type": "code",
     "collapsed": false,
     "input": [
      "int(1/0.0001)"
     ],
     "language": "python",
     "metadata": {},
     "outputs": [
      {
       "metadata": {},
       "output_type": "pyout",
       "prompt_number": 33,
       "text": [
        "10000"
       ]
      }
     ],
     "prompt_number": 33
    },
    {
     "cell_type": "code",
     "collapsed": false,
     "input": [],
     "language": "python",
     "metadata": {},
     "outputs": []
    }
   ],
   "metadata": {}
  }
 ]
}