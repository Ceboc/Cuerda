{
 "metadata": {
  "language": "Julia",
  "name": "",
  "signature": "sha256:b14ca2e69b86b663f344b39a43b165ea72f5d6b34d3f1d823d26c55e6dc730a8"
 },
 "nbformat": 3,
 "nbformat_minor": 0,
 "worksheets": [
  {
   "cells": [
    {
     "cell_type": "code",
     "collapsed": false,
     "input": [
      ";git status "
     ],
     "language": "python",
     "metadata": {},
     "outputs": [
      {
       "output_type": "stream",
       "stream": "stdout",
       "text": [
        "En la rama Petobranch\n",
        "Your branch is up-to-date with 'origin/Petobranch'.\n",
        "\n",
        "Archivos sin seguimiento:\n",
        "  (use \u00abgit add <archivo>...\u00bb para incluir lo que se ha de ejecutar)\n",
        "\n",
        "\t.ipynb_checkpoints/\n",
        "\tCaptura de pantalla de 2014-12-04 09:49:30.png\n",
        "\tUntitled0.ipynb\n",
        "\n",
        "no se ha agregado nada al commit pero existen archivos sin seguimiento (use \u00abgit add\u00bb para darle seguimiento)\n"
       ]
      }
     ],
     "prompt_number": 1
    },
    {
     "cell_type": "markdown",
     "metadata": {},
     "source": [
      "El plan:\n",
      "\n",
      "- Resolver la ecuaci\u00f3n de onda para intrumentos de cuerda, en particular cuerda percutida (piano), buscar otro modelo, ie. otra ecuaci\u00f3n diferencial a resolver distinta a la del Giordano (sin excluir esta) y comparar los resultados obtenidos.\n",
      "\n",
      "- Generar un piano digital, es decir una base de datos basada en los datos reales de un piano, con longitudes y grosores de las cuerdas correspondientes, lo que generar\u00e1 un modelo de vibraci\u00f3n para cada una de las cuerdas con las correspondientes frecuencias de vibraci\u00f3n en cada una de ellas, ie. se genera toda una familia de funciones, vistas a manera de arreglo, y(x,t) que nos permita reproducirla, durante un tiempo determinado, usando el paquete AudioIO\n",
      "\n",
      "- Utilizando esta base de datos, generar una implementaci\u00f3n para llamar dichos arreglos y reproducirlos tecleando desde una terminal, bas\u00e1ndonos en el programa Aldo's Pianito, para generar un piano simple en base al modelo f\u00edsico que se ha empleado.\n",
      "\n",
      "Claro est\u00e1 que se puede cambiar el sonido generado al modificar par\u00e1metros en el modelo, como la tensi\u00f3n o la forma del pulso.\n"
     ]
    },
    {
     "cell_type": "heading",
     "level": 1,
     "metadata": {},
     "source": [
      "Modelo num\u00e9rico de instrumentos musicales de cuerda percutida o pulsada."
     ]
    },
    {
     "cell_type": "markdown",
     "metadata": {},
     "source": [
      "La ecuaci\u00f3n de onda de una cuerda es:\n",
      "$$ \\frac{\\partial^2 y}{\\partial t^2} = c^2 \\frac{\\partial^2 y}{\\partial x^2}$$ \n",
      "\n",
      "Donde $y(c,t)$ es el desplazamiento transversal de la cuerda, $x$ corre sobre la longitud de la cuerda, y $c$ es la velocidad de la onda, en una cuerda flexible, $c=\\sqrt{T/\\mu}$, con $T$ como la tensi\u00f3n y $\\mu$ la masa por unidad de longitud.\n",
      "\n",
      "No es suficiente con resolve la ecuaci\u00f3n pues se requiere conocer c\u00f3mo es esta pulsada, en general se puede describir como una amplitud en un cierto punto, en donde es pulsada. Una cuerda de longitud $L$ es pulsada a una ciera distancia del puente del instrumento, d\u00edagase $L_p$, se define la \"relaci\u00f3n de pulsamiento\" como $\\beta=L_p / L$, esta variable determinar\u00e1, tambi\u00e9n c\u00f3mo es que suena la cuerda."
     ]
    },
    {
     "cell_type": "heading",
     "level": 2,
     "metadata": {},
     "source": [
      "Soluci\u00f3n num\u00e9rica a la ecuaci\u00f3n de onda"
     ]
    },
    {
     "cell_type": "heading",
     "level": 3,
     "metadata": {},
     "source": [
      "Una guitarra (intrumentos de cuerda pusada)"
     ]
    },
    {
     "cell_type": "markdown",
     "metadata": {},
     "source": [
      "Se discretiza el tiempo y el espacio, sea el paso en el tiempo $\\Delta t$ y el paso espacial $\\Delta x$, al escribir el desplazamiento de la cuerda como una funci\u00f3n de esta variables discretas con $y(x,t)\\rightarrow y(i\\Delta x, n\\Delta t) \\rightarrow y(i,n)$, donde $i$ y $n$ son el n\u00famero de paso (entero) correspondiente en cada una de las coordenas, las derivadas pueden escribirse en t\u00e9rminos de diferencias finitas. (Quiz\u00e1 sea mejor discretizar como lo \"hicimos\" con Poisson para resolver el sistema de ecuaciones en 3 dimensiones $x,y,t$)\n",
      "\n",
      "$$ \\frac{y(i,n+1)+y(i,n-1)-2y(i,n)}{(\\Delta t)^2} \\approx c^2 \\frac{y(i+1,n)+y(i-1,n)-2y(i,n)}{(\\Delta x)^2}$$\n",
      "\n",
      "Arreglamos esta expresi\u00f3n para obtener el siguiente desplazamiento de la cuerda en el tiempo $n+1$\n",
      "\n",
      "$$y(i,n+1)=2[1-r^2]y(i,n)-y(i,n-1)+r^2 [y(i+1,n)+y(i-1,n)]$$\n",
      "\n",
      "donde se defini\u00f3 a $r=c\\Delta t /\\Delta x$\n",
      "Se debe de considerar que el final de la cuerda tiene las condiciones de frontera $y(i=0,n)=y(i=M,n)=0$\n",
      "Es decir, debemos resolver la ecuaci\u00f3n de onda, mediante diferencias finitas en dos dimensiones, afortunadamente, el problema deber\u00eda ser cuadrado, si elegimos correctamente el tama\u00f1o de paso tanto en $x$ como en $t$. (Ver cap\u00edtulo 6 del Giordano)\n",
      "\n",
      "Este modelo claro est\u00e1 que no esta considerando el amortiguamiento de la vibraci\u00f3n. Para conocer el sonido final necesitamos conocer c\u00f3mo vibra la caja de resonancia y  como las vibraciones de la caja de resonancia producen ondas de presion en el aire circundante. En general es un problema complicado, pero puede obtenerse de manera simple un sonido estimado. Hemos de notar que la cuerda pasa sobre un puente que est\u00e1 sobre la caja de resonancia, transmitiendo las vibraciones a este, el puente est\u00e1 firmemente colocado sobre la caja de resonancia, por lo que la fuerza de la cuerda sobre el puente se transmite directamente a la caja de resonancia. Ahora, la velocidad de la caja de resonancia es proporcional a esta fuerza, m\u00e1s aun, la presi\u00f3n producida por la caja de resonancia es aproximadamente proporcional a la velocidad de la tabla, por lo que podemos estimar la presi\u00f3n sonora como una seal que es proporcional a la fuerza que la cueda ejerce sobre el puente. Es decir, tratamos con la fuerza de la cuerda sobre el puente, perpendicular al plano de la caja de resonancia. En los c\u00e1lculos, esta fierza en el final de la cuerda en $x=i=0$ es igual a $F_{puente} = T (\\partial y / \\partial x)$, haciendo la aproximaci\u00f3n discreta (que para entonces esos puntos ya estar\u00e1n calculados)\n",
      "\n",
      "$$F_{puente}=T \\left.\\frac{\\partial y}{\\partial x}\\right|_{x=0} = T\\frac{y(1,n)-y(0,n)}{\\Delta x}$$\n",
      "\n",
      "Lo que se obtiene es una fuerza sobre el puente a un tiempo n. Ahora hemos de hacer una transformada r\u00e1pida de Fourier sobre la se\u00f1al de la fuerza para entender las frecuencias que se obtendr\u00e1n del sonido."
     ]
    },
    {
     "cell_type": "code",
     "collapsed": false,
     "input": [
      "A=[1 2 3 4; 4 1 5 3; 5 1 4 9]"
     ],
     "language": "python",
     "metadata": {},
     "outputs": [
      {
       "metadata": {},
       "output_type": "pyout",
       "prompt_number": 12,
       "text": [
        "3x4 Array{Int32,2}:\n",
        " 1  2  3  4\n",
        " 4  1  5  3\n",
        " 5  1  4  9"
       ]
      }
     ],
     "prompt_number": 12
    },
    {
     "cell_type": "markdown",
     "metadata": {},
     "source": [
      "Creo que la condici\u00f3n inicial tendr\u00eda que estar dada por alguna funci\u00f3n, de la cual se calcular\u00e1n algunos puntos, M puntos."
     ]
    },
    {
     "cell_type": "code",
     "collapsed": false,
     "input": [
      "function GUITARRA(Condin, T, \u03bc, h_x, h_t, N) #T es la tensi\u00f3n de la cuerda, \u03bc es la masa, h_ el tama\u00f1o de paso \u0394x o \u0394x, N el n\u00famero de pasos de t\n",
      "    Condin=hcat(Condin...)\n",
      "    c=sqrt(T/\u03bc) #velocidad de la cuerda\n",
      "    r=c*h_x/h_t #constante\n",
      "    M=length(Condin) #n\u00famero de puntos y de la condici\u00f3n inicial\n",
      "    Y=zeros(N,M) \n",
      "    Y[1,:]=Condin\n",
      "    Y[2,:]=Condin\n",
      "    \n",
      "    for n in 2:N-1 #El primer rengl\u00f3n que llenar\u00e9 ser\u00e1 el tercer rengl\u00f3n, aunque sea n=3, representar\u00e1 el primer paso de tiempo\n",
      "        for i in 2:M-1  #para no variar las condiciones de frontera Y[n,1]=Y[n,M]=0\n",
      "            Y[n+1,i]=2*(1-r^2)*Y[n,i]-Y[n-1,i] + (r^2)*(Y[n,i+1]*Y[n,i-1]) #ojo, la numeraci\u00f3n de renglones y columnas comienza en 1\n",
      "        end\n",
      "    end\n",
      "    Y #me devuelve la matriz de posiciones Y de la cuerda a todo tiempo\n",
      "end   "
     ],
     "language": "python",
     "metadata": {},
     "outputs": [
      {
       "metadata": {},
       "output_type": "pyout",
       "prompt_number": 25,
       "text": [
        "GUITARRA (generic function with 1 method)"
       ]
      }
     ],
     "prompt_number": 25
    },
    {
     "cell_type": "code",
     "collapsed": false,
     "input": [
      "CI=[0.3*sin(x) for x in 0:pi/20:pi];\n",
      "\u0394x=pi/20;"
     ],
     "language": "python",
     "metadata": {},
     "outputs": [],
     "prompt_number": 51
    },
    {
     "cell_type": "code",
     "collapsed": false,
     "input": [
      "PRIMERA=GUITARRA(CI, 0.5, 0.1, \u0394x, 0.5, 20)"
     ],
     "language": "python",
     "metadata": {},
     "outputs": [
      {
       "metadata": {},
       "output_type": "pyout",
       "prompt_number": 52,
       "text": [
        "20x21 Array{Float64,2}:\n",
        " 0.0   0.0469303     0.0927051     0.136197    \u2026   0.0469303    3.67394e-17\n",
        " 0.0   0.0469303     0.0927051     0.136197        0.0469303    3.67394e-17\n",
        " 0.0   0.000611951   0.00436305    0.00984297      0.000611951  0.0        \n",
        " 0.0  -0.0463104    -0.0882822    -0.12619        -0.0463104    0.0        \n",
        " 0.0  -0.0475262    -0.0909125    -0.130732       -0.0475262    0.0        \n",
        " 0.0  -0.00183554   -0.000749716   0.00121834  \u2026  -0.00183554   0.0        \n",
        " 0.0   0.0456668     0.0901519     0.131965        0.0456668    0.0        \n",
        " 0.0   0.0480978     0.0950511     0.140033        0.0480978    0.0        \n",
        " 0.0   0.00305819    0.00946234    0.0184274       0.00305819   0.0        \n",
        " 0.0  -0.0449997    -0.0854376    -0.121228       -0.0449997    0.0        \n",
        " 0.0  -0.0486447    -0.0933219    -0.134838    \u2026  -0.0486447    0.0        \n",
        " 0.0  -0.00427927   -0.00586441   -0.00742112     -0.00427927   0.0        \n",
        " 0.0   0.0443096     0.0873967     0.127348        0.0443096    0.0        \n",
        " 0.0   0.0491666     0.0971853     0.143465        0.0491666    0.0        \n",
        " 0.0   0.00549816    0.0145367     0.0269465       0.00549816   0.0        \n",
        " 0.0  -0.0435968    -0.082386     -0.115865    \u2026  -0.0435968    0.0        \n",
        " 0.0  -0.0496634    -0.0955042    -0.138494       -0.0496634    0.0        \n",
        " 0.0  -0.00671423   -0.0109694    -0.0160496      -0.00671423   0.0        \n",
        " 0.0   0.0428617     0.084445      0.122356        0.0428617    0.0        \n",
        " 0.0   0.0501348     0.0991035     0.146483        0.0501348    0.0        "
       ]
      }
     ],
     "prompt_number": 52
    },
    {
     "cell_type": "code",
     "collapsed": false,
     "input": [
      "using PyPlot"
     ],
     "language": "python",
     "metadata": {},
     "outputs": [
      {
       "output_type": "stream",
       "stream": "stderr",
       "text": [
        "INFO: Loading help data...\n"
       ]
      }
     ],
     "prompt_number": 30
    },
    {
     "cell_type": "code",
     "collapsed": false,
     "input": [
      "vcat(PRIMERA[1,:]...);"
     ],
     "language": "python",
     "metadata": {},
     "outputs": [],
     "prompt_number": 42
    },
    {
     "cell_type": "code",
     "collapsed": false,
     "input": [
      "X=[0:pi/20:pi]\n",
      "#for i in 1:20\n",
      "    plot(X,vcat(PRIMERA[10,:]...))"
     ],
     "language": "python",
     "metadata": {},
     "outputs": [
      {
       "metadata": {},
       "output_type": "display_data",
       "png": "[encoded data removed]",
       "text": [
        "Figure(PyObject <matplotlib.figure.Figure object at 0xaef1528c>)"
       ]
      },
      {
       "metadata": {},
       "output_type": "pyout",
       "prompt_number": 55,
       "text": [
        "1-element Array{Any,1}:\n",
        " PyObject <matplotlib.lines.Line2D object at 0xae456b4c>"
       ]
      }
     ],
     "prompt_number": 55
    },
    {
     "cell_type": "code",
     "collapsed": false,
     "input": [
      ";git status"
     ],
     "language": "python",
     "metadata": {},
     "outputs": [
      {
       "output_type": "stream",
       "stream": "stdout",
       "text": [
        "En la rama Petobranch\n",
        "Your branch is up-to-date with 'origin/Petobranch'.\n",
        "\n",
        "Cambios no preparados para el commit:\n",
        "  (use \u00abgit add <archivo>...\u00bb para actualizar lo que se ejecutar\u00e1)\n",
        "  (use \u00abgit checkout -- <archivo>...\u00ab para descartar cambios en le directorio de trabajo)\n",
        "\n",
        "\tmodificado: Proyecto.ipynb\n",
        "\n",
        "Archivos sin seguimiento:\n",
        "  (use \u00abgit add <archivo>...\u00bb para incluir lo que se ha de ejecutar)\n",
        "\n",
        "\t.ipynb_checkpoints/\n",
        "\tCaptura de pantalla de 2014-12-04 09:49:30.png\n",
        "\tUntitled0.ipynb\n",
        "\n",
        "no hay cambios agregados al commit (use \u00abgit add\u00bb o \u00abgit commit -a\u00bb)\n"
       ]
      }
     ],
     "prompt_number": 56
    },
    {
     "cell_type": "heading",
     "level": 3,
     "metadata": {},
     "source": [
      "Un piano (instrumentos de cuerda percutida)"
     ]
    },
    {
     "cell_type": "markdown",
     "metadata": {},
     "source": [
      "A diferencia el caso anterior, en donde tenemos un pulso y vemos c\u00f3mo var\u00eda en el tiempo, ahora tenemos como condici\u00f3n inicial una cuerda en la que inicialmente $y(x)=0 \\space \\forall x$, que luego es golpeada en alg\u00fan punto por un objeto (d\u00edgase, el mart\u00edllo de la tecla de un piano).\n",
      "Estudios experimentales sobre los martillos de los pianos muestran que actian como resortes no lineales. Digamos que $z_f$ es la cantidad del resorte que es comprimida, ie. $z_f$ es la cantidad que el fieltro que cubre el martillo es comprimido cunado colisiona con la cuerda, podemos aproximar esta fuerza por:\n",
      "\n",
      "$$F_h (z_f) = K z_f ^p$$\n",
      "\n",
      "En donde K es una constante de rigidez, donde el exponente $p$ mide la \"fuerza\" de la no linearidad, en experimentos se encuentra que $p\\approx 3$ para los martillos de un piano.\n",
      "El tratamiento resultar\u00e1 similar a la aproximaci\u00f3n hecha para la guitarra, salvo que ahora la cuerda del piano es exitada. En un piano la cuerda est\u00e1 inicialmente tambi\u00e9n en reposo, pero con $y=0$ en todas partes, el martillo golpea en t=0 mantieniendo contacto un periodo corto de tiempo, y una fuerza externa, $F_h$ actua sobre la cuerda, por lo que ahora debemos agregar esta fuerza en la ecuaci\u00f3n de movimiento.\n",
      "El martillo hace contacto en un peque\u00f1o segmento de la cuerda, estos los etiquetaremos como una serie de elementos discretos $i$, con correspondientes desplazamientos $y(i)$. Cada uno de estos elementos de la cuerda tendran una longitud $\\Delta x$ y una masa $\\mu\\Delta x$, donde $\\mu$ es la densidad longitudinal de masa. Luego la ecuaci\u00f3n de onda que ten\u00edamos antes, multiplicandola a ambos lados por $\\mu\\Delta x$\n",
      "\n",
      "$$(\\mu\\Delta x)\\frac{\\partial ^2 y(i)}{\\partial t^2}=(\\mu\\Delta x) c^2 \\frac{\\partial^2 y(i)}{\\partial x^2}$$\n",
      "\n",
      "Para agregar al modelo la fuerza externa, la del martillo, s\u00f3lo la agregamos al lado derecho de la ecuaci\u00f3n\n",
      "$$(\\mu\\Delta x)\\frac{\\partial ^2 y(i)}{\\partial t^2}=(\\mu\\Delta x) c^2 \\frac{\\partial^2 y(i)}{\\partial x^2} + F_h$$\n",
      "\n",
      "Siguiendo la discretizaci\u00f3n que se hab\u00eda hecho antes en la discusi\u00f3n anterior y despejando $y(i,n+1)$ resulta\n",
      "\n",
      "$$y(i,n+1)=2[1-r^2]y(i,n)-y(i,n-1)+r^2 [y(i+1,n)+y(i-1,n)]+\\frac{(\\Delta t)^2}{\\mu\\Delta x} F_h $$\n",
      "\n",
      "donde $r = c\\Delta t / \\Delta x$. Necesitamos ahora un modelo para el movimiento del martillo, el cual se acelera r\u00e1pidamente cuando se presiona una tecla y el mecanismo suelta el martillo justo antes de golpear la cuerda, mecanismo conocido como escape, por lo que podemos tratar el martillo como una masa simple que se mueve libremente con una velocidad $v_h$ justo antes de tocar a la cuerda, con lo que\n",
      "\n",
      "$$m_h a_h = -F_h$$\n",
      "donde $a_h$ es la aceleraci\u00f3n del martillo y $m_h$ su masa. Podemos calcular, por ejemplo el m\u00e9todo de euler para calcular la posici\u00f3n del martillo $z_h$ y su velocidad $v_h$ (yo la verdad elegrir\u00eda el m\u00e9todo de Euler-Cromer por ser simpl\u00e9ctico), en el paso $n+1$\n",
      "\n",
      "$$z_h(n+1)=z_h(n)+v_h(n)\\Delta t$$\n",
      "$$v_h(n+1)=v_h(n)+a_h(n)\\Delta t \\space \\blacksquare$$\n",
      "\n",
      "La fuerza del martillo depente de la compresi\u00f3n del fieltro $z_f$, esta compresi\u00f3n es igual a la diferencia entre la posici\u00f3n del martillo y el desplazamiento al centro del martillo, ie. el desplazamiento m\u00e1ximo generado por la cuerda. Los martillos reales no golpean a la cuerda solamente en un punto, sino que distribuyen su fuerza sobre toda una regi\u00f3n del a cuerda\n",
      "\n",
      "Seg\u00fan Giordano, esta es la idea que debemos seguir para la simulaci\u00f3n del piano (creo que lo m\u00e1s dificil ser\u00e1 resolver el sistema de ecuaciones):\n",
      "\n",
      "-Encontrar la fuerza entre el martillo y la cuerda usando la relaci\u00f3n $F_h (z_f) = K z_f ^p$ donde $z_f = y_{contacto}(n)-z_h(n)$, donde $y_{contacto}(n)$ es el desplazamiento de la cuerda en el punto de contacto entre el martillo y la cuerda.\n",
      "-Notar que $F_h=0$ despu\u00e9s que el martillo piede contacto con la cuerda, cuando $z_f$ se hace negativo.\n",
      "-Calcular la nueva forma de la cuerda usando $y(i,n+1)=2[1-r^2]y(i,n)-y(i,n-1)+r^2 [y(i+1,n)+y(i-1,n)]+\\frac{(\\Delta t)^2}{\\mu\\Delta x} F_h $\n",
      "-Calcular la nueva velocidad y posici\u00f3n del martillo, mediante $\\blacksquare$"
     ]
    },
    {
     "cell_type": "heading",
     "level": 2,
     "metadata": {},
     "source": [
      "Sobre la discretizaci\u00f3n necesaria"
     ]
    },
    {
     "cell_type": "markdown",
     "metadata": {},
     "source": [
      "El meollo del asunto es resolver la ecuaci\u00f3n de onda asociada a la cuerda, $y(x,t)$ es una funci\u00f3n que depende claramente de dos variables, que salvo por el t\u00e9rmino $c^2$ el problema debe ser similar a la resoluci\u00f3n de la ecuaci\u00f3n de Poisson. La ecuaci\u00f3n es una ecuaci\u00f3n parcial de segundo orden el\u00edptica, lo que sugiere que el m\u00e9todo de relajaci\u00f3n se puede aplicar a su soluci\u00f3n pero se resolver\u00e1 mediante diferencias finitas.\n",
      "\n",
      "Sean $\\Delta x$ y $\\Delta t$ los valores de discretizaci\u00f3n de las variables corespondientes donde se cumple que $x = h \\Delta x$ y $t = i \\Delta t$, donde $h$ e $i$ son enteros desde 0 hasta $L/\\Delta x$ con $L$ la longitud de la cuerda. Deseamos conocer el valor de y(x,t)=y(h\\Delta x, i  \\Delta t). Aproximando la primera derivada\n",
      "\n",
      "$$\\frac{\\partial y}{\\partial x} = \\frac{y(h+1,i)-y(h,i)}{\\Delta x}$$\n",
      "o equivalentemente\n",
      "$$\\frac{\\partial y}{\\partial x} = \\frac{y(h+1,i)-y(h-1,i)}{2 \\Delta x}$$\n",
      "\n",
      "Dependiendo del problema que tengamos (o el istema de \u00edndices que nos sea m\u00e1s conveniente) se elegir\u00e1 entre cualquiera de estas dos ecuaciones, cmo estamos frente a una derivada parcial de segundo orden es de notar que estamos centrados en una posici\u00f3n $(i+\n",
      "1/2)$, por lou que podemos escribir\n",
      "\n",
      "$$\\frac{\\partial ^2 y}{\\partial x^2}=\\frac{1}{\\Delta x} (\\frac{\\partial y}{\\partial x}(1+\\frac{1}{2})-\\frac{\\partial y}{\\partial x}(i-\\frac{1}{2}))$$\n",
      "\n",
      "luego haciendo un centrado como se hizo hace rato, podemos escribir\n",
      "$$\\frac{\\partial ^2 y}{\\partial x^2}=\\frac{1}{\\Delta x} [\\frac{y(h+1,i)-v(h,i)}{\\Delta x}-\\frac{y(h,i)-y(h-1,i)}{\\Delta x} ] $$\n",
      "se obtiene una expresi\u00f3n similar para el la parcial en el tiempo\n",
      "\n",
      "haciendo las sustituciones correspondientes se llega a, poniendo como sub\u00edndices las entradas $i,h$ correspondientes:\n",
      "$$y_{h,i}= \\frac{1}{-2c^2 \\Delta t\u00b2 + 2 \\Delta x^2}(- c^2 \\Delta t^2 (y_{n+1,i}+y_{n-1,i})+\\Delta x^2 (y_{n,i+1}+y_{n,i-1}) )$$\n",
      "que nos conformar\u00e1n un sistema de ecuaciones dadas las condiciones de frontera en el tiempo y el espacio, como ya se analiz\u00f3 con anterioridad.\n",
      "De hecho si se revizan las cuentas ambas son equivalentes.\n",
      "\n",
      "\u00a1FAVOR DE REVISARLAS!"
     ]
    },
    {
     "cell_type": "code",
     "collapsed": false,
     "input": [
      "using PyPlot"
     ],
     "language": "python",
     "metadata": {},
     "outputs": [
      {
       "output_type": "stream",
       "stream": "stderr",
       "text": [
        "INFO: Loading help data...\n"
       ]
      }
     ],
     "prompt_number": 5
    },
    {
     "cell_type": "code",
     "collapsed": false,
     "input": [
      "x=sin(0:.01:2 *pi*4500*5)\n"
     ],
     "language": "python",
     "metadata": {},
     "outputs": [
      {
       "output_type": "stream",
       "stream": "stderr",
       "text": [
        "ALSA lib pcm.c:7339:(snd_pcm_recover) underrun occurred\n",
        "WARNING: libportaudio: Output underflowed\n"
       ]
      },
      {
       "metadata": {},
       "output_type": "pyout",
       "prompt_number": 7,
       "text": [
        "14137167-element Array{Float64,1}:\n",
        "  0.0       \n",
        "  0.00999983\n",
        "  0.0199987 \n",
        "  0.0299955 \n",
        "  0.0399893 \n",
        "  0.0499792 \n",
        "  0.059964  \n",
        "  0.0699428 \n",
        "  0.0799147 \n",
        "  0.0898785 \n",
        "  0.0998334 \n",
        "  0.109778  \n",
        "  0.119712  \n",
        "  \u22ee         \n",
        " -0.119128  \n",
        " -0.109193  \n",
        " -0.0992479 \n",
        " -0.0892925 \n",
        " -0.0793281 \n",
        " -0.0693558 \n",
        " -0.0593766 \n",
        " -0.0493914 \n",
        " -0.0394013 \n",
        " -0.0294073 \n",
        " -0.0194103 \n",
        " -0.0094114 "
       ]
      }
     ],
     "prompt_number": 7
    },
    {
     "cell_type": "code",
     "collapsed": false,
     "input": [
      "plot(t[1:end],x[1:end])"
     ],
     "language": "python",
     "metadata": {},
     "outputs": [
      {
       "ename": "LoadError",
       "evalue": "PyError (PyObject_Call) <class 'ValueError'>\nValueError('x and y must have same first dimension',)\n  File \"/home/csar/anaconda3/lib/python3.4/site-packages/matplotlib/pyplot.py\", line 3093, in plot\n    ret = ax.plot(*args, **kwargs)\n  File \"/home/csar/anaconda3/lib/python3.4/site-packages/matplotlib/axes/_axes.py\", line 1373, in plot\n    for line in self._get_lines(*args, **kwargs):\n  File \"/home/csar/anaconda3/lib/python3.4/site-packages/matplotlib/axes/_base.py\", line 303, in _grab_next_args\n    for seg in self._plot_args(remaining, kwargs):\n  File \"/home/csar/anaconda3/lib/python3.4/site-packages/matplotlib/axes/_base.py\", line 281, in _plot_args\n    x, y = self._xy_from_xy(x, y)\n  File \"/home/csar/anaconda3/lib/python3.4/site-packages/matplotlib/axes/_base.py\", line 223, in _xy_from_xy\n    raise ValueError(\"x and y must have same first dimension\")\n\nwhile loading In[16], in expression starting on line 1",
       "output_type": "pyerr",
       "traceback": [
        "PyError (PyObject_Call) <class 'ValueError'>\nValueError('x and y must have same first dimension',)\n  File \"/home/csar/anaconda3/lib/python3.4/site-packages/matplotlib/pyplot.py\", line 3093, in plot\n    ret = ax.plot(*args, **kwargs)\n  File \"/home/csar/anaconda3/lib/python3.4/site-packages/matplotlib/axes/_axes.py\", line 1373, in plot\n    for line in self._get_lines(*args, **kwargs):\n  File \"/home/csar/anaconda3/lib/python3.4/site-packages/matplotlib/axes/_base.py\", line 303, in _grab_next_args\n    for seg in self._plot_args(remaining, kwargs):\n  File \"/home/csar/anaconda3/lib/python3.4/site-packages/matplotlib/axes/_base.py\", line 281, in _plot_args\n    x, y = self._xy_from_xy(x, y)\n  File \"/home/csar/anaconda3/lib/python3.4/site-packages/matplotlib/axes/_base.py\", line 223, in _xy_from_xy\n    raise ValueError(\"x and y must have same first dimension\")\n\nwhile loading In[16], in expression starting on line 1",
        "",
        " in getindex at /home/csar/.julia/v0.3/PyCall/src/PyCall.jl:642",
        " in pysequence_query at /home/csar/.julia/v0.3/PyCall/src/conversions.jl:743",
        " in pytype_query at /home/csar/.julia/v0.3/PyCall/src/conversions.jl:759",
        " in convert at /home/csar/.julia/v0.3/PyCall/src/conversions.jl:808",
        " in pycall at /home/csar/.julia/v0.3/PyCall/src/PyCall.jl:812",
        " in fn at /home/csar/.julia/v0.3/PyCall/src/conversions.jl:181",
        " in close_queued_figs at /home/csar/.julia/v0.3/PyPlot/src/PyPlot.jl:295"
       ]
      }
     ],
     "prompt_number": 16
    },
    {
     "cell_type": "code",
     "collapsed": false,
     "input": [
      "using AudioIO"
     ],
     "language": "python",
     "metadata": {},
     "outputs": [],
     "prompt_number": 2
    },
    {
     "cell_type": "code",
     "collapsed": false,
     "input": [
      "play(x)"
     ],
     "language": "python",
     "metadata": {},
     "outputs": [
      {
       "metadata": {},
       "output_type": "pyout",
       "prompt_number": 8,
       "text": [
        "AudioNode{ArrayRenderer}(true,Condition({}),ArrayRenderer(Float32[0.0,0.00999983,0.0199987,0.0299955,0.0399893,0.0499792,0.059964,0.0699428,0.0799147,0.0898786  \u2026  -0.0992479,-0.0892925,-0.0793281,-0.0693558,-0.0593766,-0.0493914,-0.0394013,-0.0294073,-0.0194103,-0.0094114],1,Float32[]))"
       ]
      },
      {
       "output_type": "stream",
       "stream": "stderr",
       "text": [
        "ALSA lib pcm.c:7339:(snd_pcm_recover) underrun occurred\n",
        "WARNING: libportaudio: Output underflowed\n"
       ]
      }
     ],
     "prompt_number": 8
    },
    {
     "cell_type": "code",
     "collapsed": false,
     "input": [
      "stop(x)"
     ],
     "language": "python",
     "metadata": {},
     "outputs": [
      {
       "ename": "LoadError",
       "evalue": "`stop` has no method matching stop(::Array{Float64,1})\nwhile loading In[13], in expression starting on line 1",
       "output_type": "pyerr",
       "traceback": [
        "`stop` has no method matching stop(::Array{Float64,1})\nwhile loading In[13], in expression starting on line 1",
        ""
       ]
      },
      {
       "output_type": "stream",
       "stream": "stderr",
       "text": [
        "ALSA lib pcm.c:7339:(snd_pcm_recover) underrun occurred\n",
        "WARNING: libportaudio: Output underflowed\n"
       ]
      }
     ],
     "prompt_number": 13
    },
    {
     "cell_type": "code",
     "collapsed": false,
     "input": [
      "Pkg.add(\"AudioIO\")"
     ],
     "language": "python",
     "metadata": {},
     "outputs": [
      {
       "output_type": "stream",
       "stream": "stderr",
       "text": [
        "INFO: Cloning cache of AudioIO from git://github.com/ssfrr/AudioIO.jl.git\n"
       ]
      },
      {
       "output_type": "stream",
       "stream": "stderr",
       "text": [
        "INFO: Installing AudioIO v0.1.1\n"
       ]
      },
      {
       "output_type": "stream",
       "stream": "stderr",
       "text": [
        "INFO: Building AudioIO\n"
       ]
      },
      {
       "output_type": "stream",
       "stream": "stderr",
       "text": [
        "INFO: Package database updated\n"
       ]
      }
     ],
     "prompt_number": 4
    },
    {
     "cell_type": "code",
     "collapsed": false,
     "input": [],
     "language": "python",
     "metadata": {},
     "outputs": []
    }
   ],
   "metadata": {}
  }
 ]
}